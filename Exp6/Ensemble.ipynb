{
 "cells": [
  {
   "cell_type": "markdown",
   "id": "66ba8842",
   "metadata": {},
   "source": [
    "### Name : Shobhit Mirjankar\n",
    "### Batch : C32\n",
    "### Roll No : 1902101"
   ]
  },
  {
   "cell_type": "code",
   "execution_count": 138,
   "id": "90521e14",
   "metadata": {},
   "outputs": [],
   "source": [
    "import pandas as pd\n",
    "import numpy as np\n",
    "from sklearn.preprocessing import LabelEncoder,OrdinalEncoder\n",
    "import seaborn as sns\n",
    "import matplotlib.pyplot as plt\n",
    "from sklearn.model_selection import train_test_split\n",
    "np.set_printoptions(suppress=True)\n",
    "from scipy import stats\n",
    "pd.options.display.float_format = '{:.3f}'.format\n",
    "np.set_printoptions(threshold=3)\n",
    "from sklearn.preprocessing import MinMaxScaler\n",
    "from sklearn.ensemble import StackingRegressor\n",
    "from sklearn.neighbors import KNeighborsRegressor\n",
    "from sklearn.svm import SVR\n",
    "from sklearn.tree import DecisionTreeRegressor\n",
    "from sklearn.linear_model import LinearRegression\n",
    "import warnings\n",
    "warnings.filterwarnings('ignore')\n",
    "from sklearn.metrics import r2_score,mean_squared_error\n",
    "from sklearn.ensemble import RandomForestRegressor\n",
    "from sklearn.ensemble import AdaBoostRegressor\n",
    "import xgboost as xgb"
   ]
  },
  {
   "cell_type": "code",
   "execution_count": 139,
   "id": "59f1aa61",
   "metadata": {},
   "outputs": [
    {
     "data": {
      "text/html": [
       "<div>\n",
       "<style scoped>\n",
       "    .dataframe tbody tr th:only-of-type {\n",
       "        vertical-align: middle;\n",
       "    }\n",
       "\n",
       "    .dataframe tbody tr th {\n",
       "        vertical-align: top;\n",
       "    }\n",
       "\n",
       "    .dataframe thead th {\n",
       "        text-align: right;\n",
       "    }\n",
       "</style>\n",
       "<table border=\"1\" class=\"dataframe\">\n",
       "  <thead>\n",
       "    <tr style=\"text-align: right;\">\n",
       "      <th></th>\n",
       "      <th>year_bought</th>\n",
       "      <th>km_driven</th>\n",
       "      <th>transmission</th>\n",
       "      <th>owner</th>\n",
       "      <th>selling_price</th>\n",
       "    </tr>\n",
       "  </thead>\n",
       "  <tbody>\n",
       "    <tr>\n",
       "      <th>0</th>\n",
       "      <td>2007</td>\n",
       "      <td>70000</td>\n",
       "      <td>Manual</td>\n",
       "      <td>First Owner</td>\n",
       "      <td>60000</td>\n",
       "    </tr>\n",
       "    <tr>\n",
       "      <th>1</th>\n",
       "      <td>2007</td>\n",
       "      <td>50000</td>\n",
       "      <td>Manual</td>\n",
       "      <td>First Owner</td>\n",
       "      <td>135000</td>\n",
       "    </tr>\n",
       "    <tr>\n",
       "      <th>2</th>\n",
       "      <td>2012</td>\n",
       "      <td>100000</td>\n",
       "      <td>Manual</td>\n",
       "      <td>First Owner</td>\n",
       "      <td>600000</td>\n",
       "    </tr>\n",
       "    <tr>\n",
       "      <th>3</th>\n",
       "      <td>2017</td>\n",
       "      <td>46000</td>\n",
       "      <td>Manual</td>\n",
       "      <td>First Owner</td>\n",
       "      <td>250000</td>\n",
       "    </tr>\n",
       "    <tr>\n",
       "      <th>4</th>\n",
       "      <td>2014</td>\n",
       "      <td>141000</td>\n",
       "      <td>Manual</td>\n",
       "      <td>Second Owner</td>\n",
       "      <td>450000</td>\n",
       "    </tr>\n",
       "    <tr>\n",
       "      <th>...</th>\n",
       "      <td>...</td>\n",
       "      <td>...</td>\n",
       "      <td>...</td>\n",
       "      <td>...</td>\n",
       "      <td>...</td>\n",
       "    </tr>\n",
       "    <tr>\n",
       "      <th>4335</th>\n",
       "      <td>2014</td>\n",
       "      <td>80000</td>\n",
       "      <td>Manual</td>\n",
       "      <td>Second Owner</td>\n",
       "      <td>409999</td>\n",
       "    </tr>\n",
       "    <tr>\n",
       "      <th>4336</th>\n",
       "      <td>2014</td>\n",
       "      <td>80000</td>\n",
       "      <td>Manual</td>\n",
       "      <td>Second Owner</td>\n",
       "      <td>409999</td>\n",
       "    </tr>\n",
       "    <tr>\n",
       "      <th>4337</th>\n",
       "      <td>2009</td>\n",
       "      <td>83000</td>\n",
       "      <td>Manual</td>\n",
       "      <td>Second Owner</td>\n",
       "      <td>110000</td>\n",
       "    </tr>\n",
       "    <tr>\n",
       "      <th>4338</th>\n",
       "      <td>2016</td>\n",
       "      <td>90000</td>\n",
       "      <td>Manual</td>\n",
       "      <td>First Owner</td>\n",
       "      <td>865000</td>\n",
       "    </tr>\n",
       "    <tr>\n",
       "      <th>4339</th>\n",
       "      <td>2016</td>\n",
       "      <td>40000</td>\n",
       "      <td>Manual</td>\n",
       "      <td>First Owner</td>\n",
       "      <td>225000</td>\n",
       "    </tr>\n",
       "  </tbody>\n",
       "</table>\n",
       "<p>4340 rows × 5 columns</p>\n",
       "</div>"
      ],
      "text/plain": [
       "      year_bought  km_driven transmission         owner  selling_price\n",
       "0            2007      70000       Manual   First Owner          60000\n",
       "1            2007      50000       Manual   First Owner         135000\n",
       "2            2012     100000       Manual   First Owner         600000\n",
       "3            2017      46000       Manual   First Owner         250000\n",
       "4            2014     141000       Manual  Second Owner         450000\n",
       "...           ...        ...          ...           ...            ...\n",
       "4335         2014      80000       Manual  Second Owner         409999\n",
       "4336         2014      80000       Manual  Second Owner         409999\n",
       "4337         2009      83000       Manual  Second Owner         110000\n",
       "4338         2016      90000       Manual   First Owner         865000\n",
       "4339         2016      40000       Manual   First Owner         225000\n",
       "\n",
       "[4340 rows x 5 columns]"
      ]
     },
     "execution_count": 139,
     "metadata": {},
     "output_type": "execute_result"
    }
   ],
   "source": [
    "dataset = pd.read_csv('cars.csv')\n",
    "dataset"
   ]
  },
  {
   "cell_type": "code",
   "execution_count": 140,
   "id": "a71239d1",
   "metadata": {},
   "outputs": [
    {
     "name": "stdout",
     "output_type": "stream",
     "text": [
      "['Manual' 'Automatic']\n",
      "['First Owner' 'Second Owner' 'Fourth & Above Owner' 'Third Owner'\n",
      " 'Test Drive Car']\n"
     ]
    }
   ],
   "source": [
    "# Data Analysis\n",
    "print(dataset['transmission'].unique())\n",
    "print(dataset['owner'].unique())"
   ]
  },
  {
   "cell_type": "code",
   "execution_count": 141,
   "id": "2ca88817",
   "metadata": {},
   "outputs": [
    {
     "data": {
      "text/html": [
       "<div>\n",
       "<style scoped>\n",
       "    .dataframe tbody tr th:only-of-type {\n",
       "        vertical-align: middle;\n",
       "    }\n",
       "\n",
       "    .dataframe tbody tr th {\n",
       "        vertical-align: top;\n",
       "    }\n",
       "\n",
       "    .dataframe thead th {\n",
       "        text-align: right;\n",
       "    }\n",
       "</style>\n",
       "<table border=\"1\" class=\"dataframe\">\n",
       "  <thead>\n",
       "    <tr style=\"text-align: right;\">\n",
       "      <th></th>\n",
       "      <th>year_bought</th>\n",
       "      <th>km_driven</th>\n",
       "      <th>transmission</th>\n",
       "      <th>owner</th>\n",
       "      <th>selling_price</th>\n",
       "    </tr>\n",
       "  </thead>\n",
       "  <tbody>\n",
       "    <tr>\n",
       "      <th>0</th>\n",
       "      <td>2007</td>\n",
       "      <td>70000</td>\n",
       "      <td>1</td>\n",
       "      <td>1</td>\n",
       "      <td>60000</td>\n",
       "    </tr>\n",
       "    <tr>\n",
       "      <th>1</th>\n",
       "      <td>2007</td>\n",
       "      <td>50000</td>\n",
       "      <td>1</td>\n",
       "      <td>1</td>\n",
       "      <td>135000</td>\n",
       "    </tr>\n",
       "    <tr>\n",
       "      <th>2</th>\n",
       "      <td>2012</td>\n",
       "      <td>100000</td>\n",
       "      <td>1</td>\n",
       "      <td>1</td>\n",
       "      <td>600000</td>\n",
       "    </tr>\n",
       "    <tr>\n",
       "      <th>3</th>\n",
       "      <td>2017</td>\n",
       "      <td>46000</td>\n",
       "      <td>1</td>\n",
       "      <td>1</td>\n",
       "      <td>250000</td>\n",
       "    </tr>\n",
       "    <tr>\n",
       "      <th>4</th>\n",
       "      <td>2014</td>\n",
       "      <td>141000</td>\n",
       "      <td>1</td>\n",
       "      <td>2</td>\n",
       "      <td>450000</td>\n",
       "    </tr>\n",
       "    <tr>\n",
       "      <th>...</th>\n",
       "      <td>...</td>\n",
       "      <td>...</td>\n",
       "      <td>...</td>\n",
       "      <td>...</td>\n",
       "      <td>...</td>\n",
       "    </tr>\n",
       "    <tr>\n",
       "      <th>4335</th>\n",
       "      <td>2014</td>\n",
       "      <td>80000</td>\n",
       "      <td>1</td>\n",
       "      <td>2</td>\n",
       "      <td>409999</td>\n",
       "    </tr>\n",
       "    <tr>\n",
       "      <th>4336</th>\n",
       "      <td>2014</td>\n",
       "      <td>80000</td>\n",
       "      <td>1</td>\n",
       "      <td>2</td>\n",
       "      <td>409999</td>\n",
       "    </tr>\n",
       "    <tr>\n",
       "      <th>4337</th>\n",
       "      <td>2009</td>\n",
       "      <td>83000</td>\n",
       "      <td>1</td>\n",
       "      <td>2</td>\n",
       "      <td>110000</td>\n",
       "    </tr>\n",
       "    <tr>\n",
       "      <th>4338</th>\n",
       "      <td>2016</td>\n",
       "      <td>90000</td>\n",
       "      <td>1</td>\n",
       "      <td>1</td>\n",
       "      <td>865000</td>\n",
       "    </tr>\n",
       "    <tr>\n",
       "      <th>4339</th>\n",
       "      <td>2016</td>\n",
       "      <td>40000</td>\n",
       "      <td>1</td>\n",
       "      <td>1</td>\n",
       "      <td>225000</td>\n",
       "    </tr>\n",
       "  </tbody>\n",
       "</table>\n",
       "<p>4340 rows × 5 columns</p>\n",
       "</div>"
      ],
      "text/plain": [
       "      year_bought  km_driven  transmission  owner  selling_price\n",
       "0            2007      70000             1      1          60000\n",
       "1            2007      50000             1      1         135000\n",
       "2            2012     100000             1      1         600000\n",
       "3            2017      46000             1      1         250000\n",
       "4            2014     141000             1      2         450000\n",
       "...           ...        ...           ...    ...            ...\n",
       "4335         2014      80000             1      2         409999\n",
       "4336         2014      80000             1      2         409999\n",
       "4337         2009      83000             1      2         110000\n",
       "4338         2016      90000             1      1         865000\n",
       "4339         2016      40000             1      1         225000\n",
       "\n",
       "[4340 rows x 5 columns]"
      ]
     },
     "execution_count": 141,
     "metadata": {},
     "output_type": "execute_result"
    }
   ],
   "source": [
    "# Data Preprocessing\n",
    "\n",
    "le = LabelEncoder()\n",
    "dataset['transmission'] = le.fit_transform(dataset['transmission'])\n",
    "oe = OrdinalEncoder(categories=[['Test Drive Car','First Owner','Second Owner',\n",
    "                                 'Third Owner','Fourth & Above Owner']],dtype=int)\n",
    "dataset[['owner']] = oe.fit_transform(dataset[['owner']])\n",
    "dataset"
   ]
  },
  {
   "cell_type": "code",
   "execution_count": 142,
   "id": "e270169a",
   "metadata": {},
   "outputs": [
    {
     "data": {
      "image/png": "[encoded data removed]",
      "text/plain": [
       "<Figure size 432x288 with 1 Axes>"
      ]
     },
     "metadata": {
      "needs_background": "light"
     },
     "output_type": "display_data"
    },
    {
     "name": "stdout",
     "output_type": "stream",
     "text": [
      "Outlier Indexes : [  89   96  101 ... 4224 4304 4313]\n"
     ]
    }
   ],
   "source": [
    "# Outlier Removal\n",
    "sns.boxplot(data = dataset['selling_price'])\n",
    "plt.show()\n",
    "z = np.abs(stats.zscore(dataset['selling_price']))\n",
    "outliers = np.where(z>3)[0]\n",
    "print('Outlier Indexes :',outliers)\n",
    "dataset.drop(outliers,inplace = True)"
   ]
  },
  {
   "cell_type": "code",
   "execution_count": 143,
   "id": "d0b8c299",
   "metadata": {},
   "outputs": [
    {
     "data": {
      "text/html": [
       "<div>\n",
       "<style scoped>\n",
       "    .dataframe tbody tr th:only-of-type {\n",
       "        vertical-align: middle;\n",
       "    }\n",
       "\n",
       "    .dataframe tbody tr th {\n",
       "        vertical-align: top;\n",
       "    }\n",
       "\n",
       "    .dataframe thead th {\n",
       "        text-align: right;\n",
       "    }\n",
       "</style>\n",
       "<table border=\"1\" class=\"dataframe\">\n",
       "  <thead>\n",
       "    <tr style=\"text-align: right;\">\n",
       "      <th></th>\n",
       "      <th>year_bought</th>\n",
       "      <th>km_driven</th>\n",
       "      <th>transmission</th>\n",
       "      <th>owner</th>\n",
       "    </tr>\n",
       "  </thead>\n",
       "  <tbody>\n",
       "    <tr>\n",
       "      <th>0</th>\n",
       "      <td>2007</td>\n",
       "      <td>70000</td>\n",
       "      <td>1</td>\n",
       "      <td>1</td>\n",
       "    </tr>\n",
       "    <tr>\n",
       "      <th>1</th>\n",
       "      <td>2007</td>\n",
       "      <td>50000</td>\n",
       "      <td>1</td>\n",
       "      <td>1</td>\n",
       "    </tr>\n",
       "    <tr>\n",
       "      <th>2</th>\n",
       "      <td>2012</td>\n",
       "      <td>100000</td>\n",
       "      <td>1</td>\n",
       "      <td>1</td>\n",
       "    </tr>\n",
       "    <tr>\n",
       "      <th>3</th>\n",
       "      <td>2017</td>\n",
       "      <td>46000</td>\n",
       "      <td>1</td>\n",
       "      <td>1</td>\n",
       "    </tr>\n",
       "    <tr>\n",
       "      <th>4</th>\n",
       "      <td>2014</td>\n",
       "      <td>141000</td>\n",
       "      <td>1</td>\n",
       "      <td>2</td>\n",
       "    </tr>\n",
       "    <tr>\n",
       "      <th>...</th>\n",
       "      <td>...</td>\n",
       "      <td>...</td>\n",
       "      <td>...</td>\n",
       "      <td>...</td>\n",
       "    </tr>\n",
       "    <tr>\n",
       "      <th>4335</th>\n",
       "      <td>2014</td>\n",
       "      <td>80000</td>\n",
       "      <td>1</td>\n",
       "      <td>2</td>\n",
       "    </tr>\n",
       "    <tr>\n",
       "      <th>4336</th>\n",
       "      <td>2014</td>\n",
       "      <td>80000</td>\n",
       "      <td>1</td>\n",
       "      <td>2</td>\n",
       "    </tr>\n",
       "    <tr>\n",
       "      <th>4337</th>\n",
       "      <td>2009</td>\n",
       "      <td>83000</td>\n",
       "      <td>1</td>\n",
       "      <td>2</td>\n",
       "    </tr>\n",
       "    <tr>\n",
       "      <th>4338</th>\n",
       "      <td>2016</td>\n",
       "      <td>90000</td>\n",
       "      <td>1</td>\n",
       "      <td>1</td>\n",
       "    </tr>\n",
       "    <tr>\n",
       "      <th>4339</th>\n",
       "      <td>2016</td>\n",
       "      <td>40000</td>\n",
       "      <td>1</td>\n",
       "      <td>1</td>\n",
       "    </tr>\n",
       "  </tbody>\n",
       "</table>\n",
       "<p>4248 rows × 4 columns</p>\n",
       "</div>"
      ],
      "text/plain": [
       "      year_bought  km_driven  transmission  owner\n",
       "0            2007      70000             1      1\n",
       "1            2007      50000             1      1\n",
       "2            2012     100000             1      1\n",
       "3            2017      46000             1      1\n",
       "4            2014     141000             1      2\n",
       "...           ...        ...           ...    ...\n",
       "4335         2014      80000             1      2\n",
       "4336         2014      80000             1      2\n",
       "4337         2009      83000             1      2\n",
       "4338         2016      90000             1      1\n",
       "4339         2016      40000             1      1\n",
       "\n",
       "[4248 rows x 4 columns]"
      ]
     },
     "execution_count": 143,
     "metadata": {},
     "output_type": "execute_result"
    }
   ],
   "source": [
    "X = dataset[['year_bought','km_driven','transmission','owner']]\n",
    "y = dataset['selling_price']\n",
    "X"
   ]
  },
  {
   "cell_type": "code",
   "execution_count": 144,
   "id": "a7d53cb4",
   "metadata": {},
   "outputs": [
    {
     "data": {
      "text/plain": [
       "0        60000\n",
       "1       135000\n",
       "2       600000\n",
       "3       250000\n",
       "4       450000\n",
       "         ...  \n",
       "4335    409999\n",
       "4336    409999\n",
       "4337    110000\n",
       "4338    865000\n",
       "4339    225000\n",
       "Name: selling_price, Length: 4248, dtype: int64"
      ]
     },
     "execution_count": 144,
     "metadata": {},
     "output_type": "execute_result"
    }
   ],
   "source": [
    "y"
   ]
  },
  {
   "cell_type": "code",
   "execution_count": 145,
   "id": "bc022b6e",
   "metadata": {},
   "outputs": [
    {
     "data": {
      "image/png": "[encoded data removed]",
      "text/plain": [
       "<Figure size 432x288 with 2 Axes>"
      ]
     },
     "metadata": {
      "needs_background": "light"
     },
     "output_type": "display_data"
    }
   ],
   "source": [
    "# Feature Importance\n",
    "correl_matrix = dataset.corr().round(2)\n",
    "sns.heatmap(data=correl_matrix, annot=True)\n",
    "plt.show()"
   ]
  },
  {
   "cell_type": "markdown",
   "id": "a7e1e2bc",
   "metadata": {},
   "source": [
    "Hence 'year_bought' is most important feature to predict 'selling_price'"
   ]
  },
  {
   "cell_type": "code",
   "execution_count": 146,
   "id": "9092f6d0",
   "metadata": {},
   "outputs": [
    {
     "data": {
      "text/html": [
       "<div>\n",
       "<style scoped>\n",
       "    .dataframe tbody tr th:only-of-type {\n",
       "        vertical-align: middle;\n",
       "    }\n",
       "\n",
       "    .dataframe tbody tr th {\n",
       "        vertical-align: top;\n",
       "    }\n",
       "\n",
       "    .dataframe thead th {\n",
       "        text-align: right;\n",
       "    }\n",
       "</style>\n",
       "<table border=\"1\" class=\"dataframe\">\n",
       "  <thead>\n",
       "    <tr style=\"text-align: right;\">\n",
       "      <th></th>\n",
       "      <th>year_bought</th>\n",
       "      <th>km_driven</th>\n",
       "      <th>transmission</th>\n",
       "      <th>owner</th>\n",
       "    </tr>\n",
       "  </thead>\n",
       "  <tbody>\n",
       "    <tr>\n",
       "      <th>1863</th>\n",
       "      <td>2018</td>\n",
       "      <td>40000</td>\n",
       "      <td>1</td>\n",
       "      <td>1</td>\n",
       "    </tr>\n",
       "    <tr>\n",
       "      <th>2172</th>\n",
       "      <td>2016</td>\n",
       "      <td>40000</td>\n",
       "      <td>1</td>\n",
       "      <td>1</td>\n",
       "    </tr>\n",
       "    <tr>\n",
       "      <th>2553</th>\n",
       "      <td>2016</td>\n",
       "      <td>138925</td>\n",
       "      <td>1</td>\n",
       "      <td>1</td>\n",
       "    </tr>\n",
       "    <tr>\n",
       "      <th>965</th>\n",
       "      <td>2014</td>\n",
       "      <td>120000</td>\n",
       "      <td>1</td>\n",
       "      <td>1</td>\n",
       "    </tr>\n",
       "    <tr>\n",
       "      <th>2244</th>\n",
       "      <td>2015</td>\n",
       "      <td>11918</td>\n",
       "      <td>1</td>\n",
       "      <td>1</td>\n",
       "    </tr>\n",
       "    <tr>\n",
       "      <th>...</th>\n",
       "      <td>...</td>\n",
       "      <td>...</td>\n",
       "      <td>...</td>\n",
       "      <td>...</td>\n",
       "    </tr>\n",
       "    <tr>\n",
       "      <th>158</th>\n",
       "      <td>2020</td>\n",
       "      <td>120000</td>\n",
       "      <td>1</td>\n",
       "      <td>1</td>\n",
       "    </tr>\n",
       "    <tr>\n",
       "      <th>890</th>\n",
       "      <td>2018</td>\n",
       "      <td>10500</td>\n",
       "      <td>1</td>\n",
       "      <td>1</td>\n",
       "    </tr>\n",
       "    <tr>\n",
       "      <th>2863</th>\n",
       "      <td>2018</td>\n",
       "      <td>30000</td>\n",
       "      <td>1</td>\n",
       "      <td>1</td>\n",
       "    </tr>\n",
       "    <tr>\n",
       "      <th>74</th>\n",
       "      <td>2009</td>\n",
       "      <td>120000</td>\n",
       "      <td>1</td>\n",
       "      <td>3</td>\n",
       "    </tr>\n",
       "    <tr>\n",
       "      <th>345</th>\n",
       "      <td>2018</td>\n",
       "      <td>20000</td>\n",
       "      <td>1</td>\n",
       "      <td>1</td>\n",
       "    </tr>\n",
       "  </tbody>\n",
       "</table>\n",
       "<p>2973 rows × 4 columns</p>\n",
       "</div>"
      ],
      "text/plain": [
       "      year_bought  km_driven  transmission  owner\n",
       "1863         2018      40000             1      1\n",
       "2172         2016      40000             1      1\n",
       "2553         2016     138925             1      1\n",
       "965          2014     120000             1      1\n",
       "2244         2015      11918             1      1\n",
       "...           ...        ...           ...    ...\n",
       "158          2020     120000             1      1\n",
       "890          2018      10500             1      1\n",
       "2863         2018      30000             1      1\n",
       "74           2009     120000             1      3\n",
       "345          2018      20000             1      1\n",
       "\n",
       "[2973 rows x 4 columns]"
      ]
     },
     "execution_count": 146,
     "metadata": {},
     "output_type": "execute_result"
    }
   ],
   "source": [
    "# Split dataset into train and test set\n",
    "X_train, X_test, y_train, y_test = train_test_split(X,y,test_size=0.3,random_state=13)\n",
    "X_train"
   ]
  },
  {
   "cell_type": "code",
   "execution_count": 147,
   "id": "1e958c6e",
   "metadata": {},
   "outputs": [
    {
     "data": {
      "text/html": [
       "<div>\n",
       "<style scoped>\n",
       "    .dataframe tbody tr th:only-of-type {\n",
       "        vertical-align: middle;\n",
       "    }\n",
       "\n",
       "    .dataframe tbody tr th {\n",
       "        vertical-align: top;\n",
       "    }\n",
       "\n",
       "    .dataframe thead th {\n",
       "        text-align: right;\n",
       "    }\n",
       "</style>\n",
       "<table border=\"1\" class=\"dataframe\">\n",
       "  <thead>\n",
       "    <tr style=\"text-align: right;\">\n",
       "      <th></th>\n",
       "      <th>year_bought</th>\n",
       "      <th>km_driven</th>\n",
       "      <th>transmission</th>\n",
       "      <th>owner</th>\n",
       "    </tr>\n",
       "  </thead>\n",
       "  <tbody>\n",
       "    <tr>\n",
       "      <th>1863</th>\n",
       "      <td>0.920</td>\n",
       "      <td>0.050</td>\n",
       "      <td>1</td>\n",
       "      <td>1</td>\n",
       "    </tr>\n",
       "    <tr>\n",
       "      <th>2172</th>\n",
       "      <td>0.840</td>\n",
       "      <td>0.050</td>\n",
       "      <td>1</td>\n",
       "      <td>1</td>\n",
       "    </tr>\n",
       "    <tr>\n",
       "      <th>2553</th>\n",
       "      <td>0.840</td>\n",
       "      <td>0.172</td>\n",
       "      <td>1</td>\n",
       "      <td>1</td>\n",
       "    </tr>\n",
       "    <tr>\n",
       "      <th>965</th>\n",
       "      <td>0.760</td>\n",
       "      <td>0.149</td>\n",
       "      <td>1</td>\n",
       "      <td>1</td>\n",
       "    </tr>\n",
       "    <tr>\n",
       "      <th>2244</th>\n",
       "      <td>0.800</td>\n",
       "      <td>0.015</td>\n",
       "      <td>1</td>\n",
       "      <td>1</td>\n",
       "    </tr>\n",
       "    <tr>\n",
       "      <th>...</th>\n",
       "      <td>...</td>\n",
       "      <td>...</td>\n",
       "      <td>...</td>\n",
       "      <td>...</td>\n",
       "    </tr>\n",
       "    <tr>\n",
       "      <th>158</th>\n",
       "      <td>1.000</td>\n",
       "      <td>0.149</td>\n",
       "      <td>1</td>\n",
       "      <td>1</td>\n",
       "    </tr>\n",
       "    <tr>\n",
       "      <th>890</th>\n",
       "      <td>0.920</td>\n",
       "      <td>0.013</td>\n",
       "      <td>1</td>\n",
       "      <td>1</td>\n",
       "    </tr>\n",
       "    <tr>\n",
       "      <th>2863</th>\n",
       "      <td>0.920</td>\n",
       "      <td>0.037</td>\n",
       "      <td>1</td>\n",
       "      <td>1</td>\n",
       "    </tr>\n",
       "    <tr>\n",
       "      <th>74</th>\n",
       "      <td>0.560</td>\n",
       "      <td>0.149</td>\n",
       "      <td>1</td>\n",
       "      <td>3</td>\n",
       "    </tr>\n",
       "    <tr>\n",
       "      <th>345</th>\n",
       "      <td>0.920</td>\n",
       "      <td>0.025</td>\n",
       "      <td>1</td>\n",
       "      <td>1</td>\n",
       "    </tr>\n",
       "  </tbody>\n",
       "</table>\n",
       "<p>2973 rows × 4 columns</p>\n",
       "</div>"
      ],
      "text/plain": [
       "      year_bought  km_driven  transmission  owner\n",
       "1863        0.920      0.050             1      1\n",
       "2172        0.840      0.050             1      1\n",
       "2553        0.840      0.172             1      1\n",
       "965         0.760      0.149             1      1\n",
       "2244        0.800      0.015             1      1\n",
       "...           ...        ...           ...    ...\n",
       "158         1.000      0.149             1      1\n",
       "890         0.920      0.013             1      1\n",
       "2863        0.920      0.037             1      1\n",
       "74          0.560      0.149             1      3\n",
       "345         0.920      0.025             1      1\n",
       "\n",
       "[2973 rows x 4 columns]"
      ]
     },
     "execution_count": 147,
     "metadata": {},
     "output_type": "execute_result"
    }
   ],
   "source": [
    "# Normalization\n",
    "\n",
    "scaler = MinMaxScaler()\n",
    "X_train[['year_bought','km_driven']] = scaler.fit_transform(\n",
    "    X_train[['year_bought','km_driven']])\n",
    "X_test[['year_bought','km_driven']] = scaler.transform(\n",
    "    X_test[['year_bought','km_driven']])\n",
    "X_train"
   ]
  },
  {
   "cell_type": "markdown",
   "id": "380084e0",
   "metadata": {},
   "source": [
    "# Stacking"
   ]
  },
  {
   "cell_type": "code",
   "execution_count": 148,
   "id": "900433f4",
   "metadata": {},
   "outputs": [],
   "source": [
    "# Choosing the base models : Decision Tree, Support Vector Regressor, KNN Regressor\n",
    "estimators = [('dt', DecisionTreeRegressor(random_state=13)),('svr', SVR()),\n",
    "             ('knr',KNeighborsRegressor(n_neighbors = 40))]"
   ]
  },
  {
   "cell_type": "code",
   "execution_count": 149,
   "id": "fc87c4e5",
   "metadata": {},
   "outputs": [
    {
     "data": {
      "text/plain": [
       "StackingRegressor(estimators=[('dt', DecisionTreeRegressor(random_state=13)),\n",
       "                              ('svr', SVR()),\n",
       "                              ('knr', KNeighborsRegressor(n_neighbors=40))],\n",
       "                  final_estimator=LinearRegression())"
      ]
     },
     "execution_count": 149,
     "metadata": {},
     "output_type": "execute_result"
    }
   ],
   "source": [
    "# Choosing the meta model : Linear Regression\n",
    "stacker = StackingRegressor(estimators=estimators,final_estimator=LinearRegression())\n",
    "stacker.fit(X_train,y_train)"
   ]
  },
  {
   "cell_type": "code",
   "execution_count": 150,
   "id": "4f245b11",
   "metadata": {},
   "outputs": [
    {
     "name": "stdout",
     "output_type": "stream",
     "text": [
      "Training set performance :\n",
      "R2 Score :  0.65\n",
      "RMSE :  194436.95481424822\n",
      "\n",
      "\n",
      "Test set performance :\n",
      "R2 Score :  0.451\n",
      "RMSE :  251726.81985057672\n"
     ]
    }
   ],
   "source": [
    "# Evaluating performance of model\n",
    "\n",
    "y_train_pred = stacker.predict(X_train)\n",
    "y_test_pred = stacker.predict(X_test)\n",
    "\n",
    "print('Training set performance :')\n",
    "print('R2 Score : ',round(r2_score(y_train,y_train_pred),3))\n",
    "print('RMSE : ',np.sqrt(mean_squared_error(y_train,y_train_pred)))\n",
    "print()\n",
    "print()\n",
    "print('Test set performance :')\n",
    "print('R2 Score : ',round(r2_score(y_test,y_test_pred),3))\n",
    "print('RMSE : ',np.sqrt(mean_squared_error(y_test,y_test_pred)))\n",
    "pred_stack = y_test_pred"
   ]
  },
  {
   "cell_type": "markdown",
   "id": "c3b23d68",
   "metadata": {},
   "source": [
    "# Bagging "
   ]
  },
  {
   "cell_type": "code",
   "execution_count": 125,
   "id": "2b0e07eb",
   "metadata": {},
   "outputs": [
    {
     "data": {
      "text/plain": [
       "RandomForestRegressor(n_estimators=200, random_state=13)"
      ]
     },
     "execution_count": 125,
     "metadata": {},
     "output_type": "execute_result"
    }
   ],
   "source": [
    "# Using Random Forest for Bagging which contain homogeneous models : Decision Trees\n",
    "\n",
    "bagger = RandomForestRegressor(random_state=13,n_estimators=200)\n",
    "bagger.fit(X_train,y_train)"
   ]
  },
  {
   "cell_type": "code",
   "execution_count": 151,
   "id": "c7307d31",
   "metadata": {},
   "outputs": [
    {
     "name": "stdout",
     "output_type": "stream",
     "text": [
      "Training set performance :\n",
      "R2 Score :  0.778\n",
      "RMSE :  154930.07982554229\n",
      "\n",
      "\n",
      "Test set performance :\n",
      "R2 Score :  0.363\n",
      "RMSE :  271146.0655493607\n"
     ]
    }
   ],
   "source": [
    "# Evaluating performance of model\n",
    "\n",
    "y_train_pred = bagger.predict(X_train)\n",
    "y_test_pred = bagger.predict(X_test)\n",
    "\n",
    "print('Training set performance :')\n",
    "print('R2 Score : ',round(r2_score(y_train,y_train_pred),3))\n",
    "print('RMSE : ',np.sqrt(mean_squared_error(y_train,y_train_pred)))\n",
    "print()\n",
    "print()\n",
    "print('Test set performance :')\n",
    "print('R2 Score : ',round(r2_score(y_test,y_test_pred),3))\n",
    "print('RMSE : ',np.sqrt(mean_squared_error(y_test,y_test_pred)))\n",
    "pred_rf = y_test_pred"
   ]
  },
  {
   "cell_type": "markdown",
   "id": "ed0145cc",
   "metadata": {},
   "source": [
    "# Boosting - AdaBoost"
   ]
  },
  {
   "cell_type": "code",
   "execution_count": 152,
   "id": "6821da93",
   "metadata": {},
   "outputs": [
    {
     "data": {
      "text/plain": [
       "AdaBoostRegressor(n_estimators=100, random_state=13)"
      ]
     },
     "execution_count": 152,
     "metadata": {},
     "output_type": "execute_result"
    }
   ],
   "source": [
    "# Using AdaBoost with Decision Trees as base estimator\n",
    "\n",
    "ada_booster = AdaBoostRegressor(random_state=13,n_estimators=100)\n",
    "ada_booster.fit(X_train,y_train)"
   ]
  },
  {
   "cell_type": "code",
   "execution_count": 153,
   "id": "e386aaf2",
   "metadata": {},
   "outputs": [
    {
     "name": "stdout",
     "output_type": "stream",
     "text": [
      "Training set performance :\n",
      "R2 Score :  0.434\n",
      "RMSE :  247483.17435028765\n",
      "\n",
      "\n",
      "Test set performance :\n",
      "R2 Score :  0.395\n",
      "RMSE :  264230.2568571042\n"
     ]
    }
   ],
   "source": [
    "# Evaluating performance of model\n",
    "\n",
    "y_train_pred = ada_booster.predict(X_train)\n",
    "y_test_pred = ada_booster.predict(X_test)\n",
    "\n",
    "print('Training set performance :')\n",
    "print('R2 Score : ',round(r2_score(y_train,y_train_pred),3))\n",
    "print('RMSE : ',np.sqrt(mean_squared_error(y_train,y_train_pred)))\n",
    "print()\n",
    "print()\n",
    "print('Test set performance :')\n",
    "print('R2 Score : ',round(r2_score(y_test,y_test_pred),3))\n",
    "print('RMSE : ',np.sqrt(mean_squared_error(y_test,y_test_pred)))\n",
    "pred_ada = y_test_pred"
   ]
  },
  {
   "cell_type": "markdown",
   "id": "57dfbf44",
   "metadata": {},
   "source": [
    "# Boosting - XGBoost"
   ]
  },
  {
   "cell_type": "code",
   "execution_count": 154,
   "id": "f7ecc69e",
   "metadata": {},
   "outputs": [
    {
     "data": {
      "text/plain": [
       "XGBRegressor(base_score=0.5, booster='gbtree', callbacks=None,\n",
       "             colsample_bylevel=1, colsample_bynode=1, colsample_bytree=1,\n",
       "             early_stopping_rounds=None, enable_categorical=False,\n",
       "             eval_metric=None, gamma=0, gpu_id=-1, grow_policy='depthwise',\n",
       "             importance_type=None, interaction_constraints='',\n",
       "             learning_rate=0.1, max_bin=256, max_cat_to_onehot=4,\n",
       "             max_delta_step=0, max_depth=6, max_leaves=0, min_child_weight=1,\n",
       "             missing=nan, monotone_constraints='()', n_estimators=250, n_jobs=0,\n",
       "             num_parallel_tree=1, predictor='auto', random_state=0, reg_alpha=0,\n",
       "             reg_lambda=1, ...)"
      ]
     },
     "execution_count": 154,
     "metadata": {},
     "output_type": "execute_result"
    }
   ],
   "source": [
    "xg_booster = xgb.XGBRegressor(objective ='reg:squarederror',\n",
    "                              learning_rate = 0.1,n_estimators = 250)\n",
    "xg_booster.fit(X_train,y_train)"
   ]
  },
  {
   "cell_type": "code",
   "execution_count": 155,
   "id": "46f34b15",
   "metadata": {},
   "outputs": [
    {
     "name": "stdout",
     "output_type": "stream",
     "text": [
      "Training set performance :\n",
      "R2 Score :  0.74\n",
      "RMSE :  167664.88955831496\n",
      "\n",
      "\n",
      "Test set performance :\n",
      "R2 Score :  0.41\n",
      "RMSE :  260973.64632438868\n"
     ]
    }
   ],
   "source": [
    "# Evaluating performance of model\n",
    "\n",
    "y_train_pred = xg_booster.predict(X_train)\n",
    "y_test_pred = xg_booster.predict(X_test)\n",
    "\n",
    "print('Training set performance :')\n",
    "print('R2 Score : ',round(r2_score(y_train,y_train_pred),3))\n",
    "print('RMSE : ',np.sqrt(mean_squared_error(y_train,y_train_pred)))\n",
    "print()\n",
    "print()\n",
    "print('Test set performance :')\n",
    "print('R2 Score : ',round(r2_score(y_test,y_test_pred),3))\n",
    "print('RMSE : ',np.sqrt(mean_squared_error(y_test,y_test_pred)))\n",
    "pred_xg = y_test_pred"
   ]
  },
  {
   "cell_type": "markdown",
   "id": "6f19d61d",
   "metadata": {},
   "source": [
    "# Comparison of Results"
   ]
  },
  {
   "cell_type": "code",
   "execution_count": 156,
   "id": "c5ad6c8d",
   "metadata": {},
   "outputs": [
    {
     "data": {
      "text/html": [
       "<div>\n",
       "<style scoped>\n",
       "    .dataframe tbody tr th:only-of-type {\n",
       "        vertical-align: middle;\n",
       "    }\n",
       "\n",
       "    .dataframe tbody tr th {\n",
       "        vertical-align: top;\n",
       "    }\n",
       "\n",
       "    .dataframe thead th {\n",
       "        text-align: right;\n",
       "    }\n",
       "</style>\n",
       "<table border=\"1\" class=\"dataframe\">\n",
       "  <thead>\n",
       "    <tr style=\"text-align: right;\">\n",
       "      <th></th>\n",
       "      <th>Stacking</th>\n",
       "      <th>Bagging (RF)</th>\n",
       "      <th>Boosting (AdaBoost)</th>\n",
       "      <th>Boosting (XGBoost)</th>\n",
       "    </tr>\n",
       "  </thead>\n",
       "  <tbody>\n",
       "    <tr>\n",
       "      <th>R2 (Train)</th>\n",
       "      <td>0.650</td>\n",
       "      <td>0.778</td>\n",
       "      <td>0.434</td>\n",
       "      <td>0.740</td>\n",
       "    </tr>\n",
       "    <tr>\n",
       "      <th>R2 (Test)</th>\n",
       "      <td>0.451</td>\n",
       "      <td>0.363</td>\n",
       "      <td>0.395</td>\n",
       "      <td>0.410</td>\n",
       "    </tr>\n",
       "  </tbody>\n",
       "</table>\n",
       "</div>"
      ],
      "text/plain": [
       "            Stacking  Bagging (RF)  Boosting (AdaBoost)  Boosting (XGBoost)\n",
       "R2 (Train)     0.650         0.778                0.434               0.740\n",
       "R2 (Test)      0.451         0.363                0.395               0.410"
      ]
     },
     "execution_count": 156,
     "metadata": {},
     "output_type": "execute_result"
    }
   ],
   "source": [
    "result = pd.DataFrame({'Stacking':[0.65,0.451],'Bagging (RF)':[0.778,0.363],\n",
    "                       'Boosting (AdaBoost)':[0.434,0.395],\n",
    "                      'Boosting (XGBoost)':[0.74,0.41]},\n",
    "                      index=['R2 (Train)','R2 (Test)'])\n",
    "result"
   ]
  },
  {
   "cell_type": "code",
   "execution_count": 157,
   "id": "0bac5056",
   "metadata": {},
   "outputs": [
    {
     "data": {
      "image/png": "[encoded data removed]",
      "text/plain": [
       "<Figure size 360x288 with 1 Axes>"
      ]
     },
     "metadata": {
      "needs_background": "light"
     },
     "output_type": "display_data"
    }
   ],
   "source": [
    "# Actual vs Predicted\n",
    "\n",
    "plt.figure(figsize=(5, 4))\n",
    "ax = plt.axes()\n",
    "ax.scatter(range(len(y_test)),y_test)\n",
    "ax.scatter(range(len(y_test)),pred_stack)\n",
    "ax.scatter(range(len(y_test)),pred_rf)\n",
    "ax.scatter(range(len(y_test)),pred_ada)\n",
    "ax.scatter(range(len(y_test)),pred_xg)\n",
    "ax.ticklabel_format(style='plain')\n",
    "plt.legend(['Actual','Stack','Bagging RF','AdaBoost','XGBoost'])\n",
    "plt.show()"
   ]
  },
  {
   "cell_type": "markdown",
   "id": "8365b997",
   "metadata": {},
   "source": [
    "Hence XGBoost performed better than other models and AdaBoost performed the worst"
   ]
  }
 ],
 "metadata": {
  "kernelspec": {
   "display_name": "Python 3 (ipykernel)",
   "language": "python",
   "name": "python3"
  },
  "language_info": {
   "codemirror_mode": {
    "name": "ipython",
    "version": 3
   },
   "file_extension": ".py",
   "mimetype": "text/x-python",
   "name": "python",
   "nbconvert_exporter": "python",
   "pygments_lexer": "ipython3",
   "version": "3.7.7"
  }
 },
 "nbformat": 4,
 "nbformat_minor": 5
}
