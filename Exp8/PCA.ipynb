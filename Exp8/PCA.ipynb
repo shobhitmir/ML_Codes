{
 "cells": [
  {
   "cell_type": "markdown",
   "metadata": {},
   "source": [
    "### Name : Shobhit Mirjankar\n",
    "### Batch : C32\n",
    "### Roll No : 1902101"
   ]
  },
  {
   "cell_type": "code",
   "execution_count": 25,
   "metadata": {
    "id": "GU-f2cqBgvuM"
   },
   "outputs": [],
   "source": [
    "# Importing Libraries\n",
    "\n",
    "import pandas as pd\n",
    "import numpy as np\n",
    "import seaborn as sns\n",
    "import matplotlib.pyplot as plt\n",
    "from sklearn.neighbors import KNeighborsClassifier\n",
    "from sklearn.model_selection import train_test_split\n",
    "from sklearn.decomposition import PCA\n",
    "from sklearn.preprocessing import StandardScaler\n",
    "import warnings\n",
    "from sklearn.metrics import classification_report,ConfusionMatrixDisplay\n",
    "warnings.filterwarnings('ignore')"
   ]
  },
  {
   "cell_type": "code",
   "execution_count": 3,
   "metadata": {
    "colab": {
     "base_uri": "https://localhost:8080/",
     "height": 424
    },
    "id": "OlVl8W9tg3Op",
    "outputId": "29bb7a42-dbb6-4c39-b669-6b30f37754ad"
   },
   "outputs": [
    {
     "data": {
      "text/html": [
       "<div>\n",
       "<style scoped>\n",
       "    .dataframe tbody tr th:only-of-type {\n",
       "        vertical-align: middle;\n",
       "    }\n",
       "\n",
       "    .dataframe tbody tr th {\n",
       "        vertical-align: top;\n",
       "    }\n",
       "\n",
       "    .dataframe thead th {\n",
       "        text-align: right;\n",
       "    }\n",
       "</style>\n",
       "<table border=\"1\" class=\"dataframe\">\n",
       "  <thead>\n",
       "    <tr style=\"text-align: right;\">\n",
       "      <th></th>\n",
       "      <th>variance</th>\n",
       "      <th>skewness</th>\n",
       "      <th>curtosis</th>\n",
       "      <th>entropy</th>\n",
       "      <th>class</th>\n",
       "    </tr>\n",
       "  </thead>\n",
       "  <tbody>\n",
       "    <tr>\n",
       "      <th>0</th>\n",
       "      <td>3.62160</td>\n",
       "      <td>8.66610</td>\n",
       "      <td>-2.8073</td>\n",
       "      <td>-0.44699</td>\n",
       "      <td>0</td>\n",
       "    </tr>\n",
       "    <tr>\n",
       "      <th>1</th>\n",
       "      <td>4.54590</td>\n",
       "      <td>8.16740</td>\n",
       "      <td>-2.4586</td>\n",
       "      <td>-1.46210</td>\n",
       "      <td>0</td>\n",
       "    </tr>\n",
       "    <tr>\n",
       "      <th>2</th>\n",
       "      <td>3.86600</td>\n",
       "      <td>-2.63830</td>\n",
       "      <td>1.9242</td>\n",
       "      <td>0.10645</td>\n",
       "      <td>0</td>\n",
       "    </tr>\n",
       "    <tr>\n",
       "      <th>3</th>\n",
       "      <td>3.45660</td>\n",
       "      <td>9.52280</td>\n",
       "      <td>-4.0112</td>\n",
       "      <td>-3.59440</td>\n",
       "      <td>0</td>\n",
       "    </tr>\n",
       "    <tr>\n",
       "      <th>4</th>\n",
       "      <td>0.32924</td>\n",
       "      <td>-4.45520</td>\n",
       "      <td>4.5718</td>\n",
       "      <td>-0.98880</td>\n",
       "      <td>0</td>\n",
       "    </tr>\n",
       "    <tr>\n",
       "      <th>...</th>\n",
       "      <td>...</td>\n",
       "      <td>...</td>\n",
       "      <td>...</td>\n",
       "      <td>...</td>\n",
       "      <td>...</td>\n",
       "    </tr>\n",
       "    <tr>\n",
       "      <th>1367</th>\n",
       "      <td>0.40614</td>\n",
       "      <td>1.34920</td>\n",
       "      <td>-1.4501</td>\n",
       "      <td>-0.55949</td>\n",
       "      <td>1</td>\n",
       "    </tr>\n",
       "    <tr>\n",
       "      <th>1368</th>\n",
       "      <td>-1.38870</td>\n",
       "      <td>-4.87730</td>\n",
       "      <td>6.4774</td>\n",
       "      <td>0.34179</td>\n",
       "      <td>1</td>\n",
       "    </tr>\n",
       "    <tr>\n",
       "      <th>1369</th>\n",
       "      <td>-3.75030</td>\n",
       "      <td>-13.45860</td>\n",
       "      <td>17.5932</td>\n",
       "      <td>-2.77710</td>\n",
       "      <td>1</td>\n",
       "    </tr>\n",
       "    <tr>\n",
       "      <th>1370</th>\n",
       "      <td>-3.56370</td>\n",
       "      <td>-8.38270</td>\n",
       "      <td>12.3930</td>\n",
       "      <td>-1.28230</td>\n",
       "      <td>1</td>\n",
       "    </tr>\n",
       "    <tr>\n",
       "      <th>1371</th>\n",
       "      <td>-2.54190</td>\n",
       "      <td>-0.65804</td>\n",
       "      <td>2.6842</td>\n",
       "      <td>1.19520</td>\n",
       "      <td>1</td>\n",
       "    </tr>\n",
       "  </tbody>\n",
       "</table>\n",
       "<p>1372 rows × 5 columns</p>\n",
       "</div>"
      ],
      "text/plain": [
       "      variance  skewness  curtosis  entropy  class\n",
       "0      3.62160   8.66610   -2.8073 -0.44699      0\n",
       "1      4.54590   8.16740   -2.4586 -1.46210      0\n",
       "2      3.86600  -2.63830    1.9242  0.10645      0\n",
       "3      3.45660   9.52280   -4.0112 -3.59440      0\n",
       "4      0.32924  -4.45520    4.5718 -0.98880      0\n",
       "...        ...       ...       ...      ...    ...\n",
       "1367   0.40614   1.34920   -1.4501 -0.55949      1\n",
       "1368  -1.38870  -4.87730    6.4774  0.34179      1\n",
       "1369  -3.75030 -13.45860   17.5932 -2.77710      1\n",
       "1370  -3.56370  -8.38270   12.3930 -1.28230      1\n",
       "1371  -2.54190  -0.65804    2.6842  1.19520      1\n",
       "\n",
       "[1372 rows x 5 columns]"
      ]
     },
     "execution_count": 3,
     "metadata": {},
     "output_type": "execute_result"
    }
   ],
   "source": [
    "# Reading dataset\n",
    "\n",
    "dataset = pd.read_csv('bank.csv')\n",
    "dataset"
   ]
  },
  {
   "cell_type": "code",
   "execution_count": 4,
   "metadata": {
    "colab": {
     "base_uri": "https://localhost:8080/",
     "height": 269
    },
    "id": "ucbmASAnjzma",
    "outputId": "6ca686ec-bab6-4102-990f-2e5892eedc59"
   },
   "outputs": [
    {
     "data": {
      "image/png": "[encoded data removed]",
      "text/plain": [
       "<Figure size 432x288 with 2 Axes>"
      ]
     },
     "metadata": {
      "needs_background": "light"
     },
     "output_type": "display_data"
    }
   ],
   "source": [
    "# Correlation Matrix\n",
    "\n",
    "correl = dataset.corr()\n",
    "sns.heatmap(correl,annot=True)\n",
    "plt.show()"
   ]
  },
  {
   "cell_type": "markdown",
   "metadata": {
    "id": "EW9WSHNzlN_g"
   },
   "source": [
    "Hence important attributes to predict class are : variance, skewness and curtosis"
   ]
  },
  {
   "cell_type": "code",
   "execution_count": 5,
   "metadata": {
    "colab": {
     "base_uri": "https://localhost:8080/",
     "height": 424
    },
    "id": "-UTY9o2xk2WN",
    "outputId": "fef764f2-7364-48e6-ce74-89bfc46050e9"
   },
   "outputs": [
    {
     "data": {
      "text/html": [
       "<div>\n",
       "<style scoped>\n",
       "    .dataframe tbody tr th:only-of-type {\n",
       "        vertical-align: middle;\n",
       "    }\n",
       "\n",
       "    .dataframe tbody tr th {\n",
       "        vertical-align: top;\n",
       "    }\n",
       "\n",
       "    .dataframe thead th {\n",
       "        text-align: right;\n",
       "    }\n",
       "</style>\n",
       "<table border=\"1\" class=\"dataframe\">\n",
       "  <thead>\n",
       "    <tr style=\"text-align: right;\">\n",
       "      <th></th>\n",
       "      <th>variance</th>\n",
       "      <th>skewness</th>\n",
       "      <th>curtosis</th>\n",
       "    </tr>\n",
       "  </thead>\n",
       "  <tbody>\n",
       "    <tr>\n",
       "      <th>0</th>\n",
       "      <td>3.62160</td>\n",
       "      <td>8.66610</td>\n",
       "      <td>-2.8073</td>\n",
       "    </tr>\n",
       "    <tr>\n",
       "      <th>1</th>\n",
       "      <td>4.54590</td>\n",
       "      <td>8.16740</td>\n",
       "      <td>-2.4586</td>\n",
       "    </tr>\n",
       "    <tr>\n",
       "      <th>2</th>\n",
       "      <td>3.86600</td>\n",
       "      <td>-2.63830</td>\n",
       "      <td>1.9242</td>\n",
       "    </tr>\n",
       "    <tr>\n",
       "      <th>3</th>\n",
       "      <td>3.45660</td>\n",
       "      <td>9.52280</td>\n",
       "      <td>-4.0112</td>\n",
       "    </tr>\n",
       "    <tr>\n",
       "      <th>4</th>\n",
       "      <td>0.32924</td>\n",
       "      <td>-4.45520</td>\n",
       "      <td>4.5718</td>\n",
       "    </tr>\n",
       "    <tr>\n",
       "      <th>...</th>\n",
       "      <td>...</td>\n",
       "      <td>...</td>\n",
       "      <td>...</td>\n",
       "    </tr>\n",
       "    <tr>\n",
       "      <th>1367</th>\n",
       "      <td>0.40614</td>\n",
       "      <td>1.34920</td>\n",
       "      <td>-1.4501</td>\n",
       "    </tr>\n",
       "    <tr>\n",
       "      <th>1368</th>\n",
       "      <td>-1.38870</td>\n",
       "      <td>-4.87730</td>\n",
       "      <td>6.4774</td>\n",
       "    </tr>\n",
       "    <tr>\n",
       "      <th>1369</th>\n",
       "      <td>-3.75030</td>\n",
       "      <td>-13.45860</td>\n",
       "      <td>17.5932</td>\n",
       "    </tr>\n",
       "    <tr>\n",
       "      <th>1370</th>\n",
       "      <td>-3.56370</td>\n",
       "      <td>-8.38270</td>\n",
       "      <td>12.3930</td>\n",
       "    </tr>\n",
       "    <tr>\n",
       "      <th>1371</th>\n",
       "      <td>-2.54190</td>\n",
       "      <td>-0.65804</td>\n",
       "      <td>2.6842</td>\n",
       "    </tr>\n",
       "  </tbody>\n",
       "</table>\n",
       "<p>1372 rows × 3 columns</p>\n",
       "</div>"
      ],
      "text/plain": [
       "      variance  skewness  curtosis\n",
       "0      3.62160   8.66610   -2.8073\n",
       "1      4.54590   8.16740   -2.4586\n",
       "2      3.86600  -2.63830    1.9242\n",
       "3      3.45660   9.52280   -4.0112\n",
       "4      0.32924  -4.45520    4.5718\n",
       "...        ...       ...       ...\n",
       "1367   0.40614   1.34920   -1.4501\n",
       "1368  -1.38870  -4.87730    6.4774\n",
       "1369  -3.75030 -13.45860   17.5932\n",
       "1370  -3.56370  -8.38270   12.3930\n",
       "1371  -2.54190  -0.65804    2.6842\n",
       "\n",
       "[1372 rows x 3 columns]"
      ]
     },
     "execution_count": 5,
     "metadata": {},
     "output_type": "execute_result"
    }
   ],
   "source": [
    "X = dataset[['variance','skewness','curtosis']]\n",
    "y = dataset['class']\n",
    "X"
   ]
  },
  {
   "cell_type": "code",
   "execution_count": 6,
   "metadata": {
    "colab": {
     "base_uri": "https://localhost:8080/",
     "height": 424
    },
    "id": "l2Dnsf1HnN5S",
    "outputId": "9fcdc5d3-75c5-495c-f30a-f8a7922500d5"
   },
   "outputs": [
    {
     "data": {
      "text/html": [
       "<div>\n",
       "<style scoped>\n",
       "    .dataframe tbody tr th:only-of-type {\n",
       "        vertical-align: middle;\n",
       "    }\n",
       "\n",
       "    .dataframe tbody tr th {\n",
       "        vertical-align: top;\n",
       "    }\n",
       "\n",
       "    .dataframe thead th {\n",
       "        text-align: right;\n",
       "    }\n",
       "</style>\n",
       "<table border=\"1\" class=\"dataframe\">\n",
       "  <thead>\n",
       "    <tr style=\"text-align: right;\">\n",
       "      <th></th>\n",
       "      <th>variance</th>\n",
       "      <th>skewness</th>\n",
       "      <th>curtosis</th>\n",
       "    </tr>\n",
       "  </thead>\n",
       "  <tbody>\n",
       "    <tr>\n",
       "      <th>523</th>\n",
       "      <td>2.13190</td>\n",
       "      <td>-2.0403</td>\n",
       "      <td>2.55740</td>\n",
       "    </tr>\n",
       "    <tr>\n",
       "      <th>486</th>\n",
       "      <td>3.88320</td>\n",
       "      <td>6.4023</td>\n",
       "      <td>-2.43200</td>\n",
       "    </tr>\n",
       "    <tr>\n",
       "      <th>784</th>\n",
       "      <td>-3.40830</td>\n",
       "      <td>4.8587</td>\n",
       "      <td>-0.76888</td>\n",
       "    </tr>\n",
       "    <tr>\n",
       "      <th>408</th>\n",
       "      <td>4.22300</td>\n",
       "      <td>1.1319</td>\n",
       "      <td>0.72202</td>\n",
       "    </tr>\n",
       "    <tr>\n",
       "      <th>1318</th>\n",
       "      <td>-0.49281</td>\n",
       "      <td>3.0605</td>\n",
       "      <td>-1.83560</td>\n",
       "    </tr>\n",
       "    <tr>\n",
       "      <th>...</th>\n",
       "      <td>...</td>\n",
       "      <td>...</td>\n",
       "      <td>...</td>\n",
       "    </tr>\n",
       "    <tr>\n",
       "      <th>866</th>\n",
       "      <td>-4.14090</td>\n",
       "      <td>3.4619</td>\n",
       "      <td>-0.47841</td>\n",
       "    </tr>\n",
       "    <tr>\n",
       "      <th>742</th>\n",
       "      <td>0.66191</td>\n",
       "      <td>9.6594</td>\n",
       "      <td>-0.28819</td>\n",
       "    </tr>\n",
       "    <tr>\n",
       "      <th>74</th>\n",
       "      <td>4.40690</td>\n",
       "      <td>10.9072</td>\n",
       "      <td>-4.57750</td>\n",
       "    </tr>\n",
       "    <tr>\n",
       "      <th>176</th>\n",
       "      <td>0.19081</td>\n",
       "      <td>9.1297</td>\n",
       "      <td>-3.72500</td>\n",
       "    </tr>\n",
       "    <tr>\n",
       "      <th>338</th>\n",
       "      <td>0.96414</td>\n",
       "      <td>5.6160</td>\n",
       "      <td>2.21380</td>\n",
       "    </tr>\n",
       "  </tbody>\n",
       "</table>\n",
       "<p>960 rows × 3 columns</p>\n",
       "</div>"
      ],
      "text/plain": [
       "      variance  skewness  curtosis\n",
       "523    2.13190   -2.0403   2.55740\n",
       "486    3.88320    6.4023  -2.43200\n",
       "784   -3.40830    4.8587  -0.76888\n",
       "408    4.22300    1.1319   0.72202\n",
       "1318  -0.49281    3.0605  -1.83560\n",
       "...        ...       ...       ...\n",
       "866   -4.14090    3.4619  -0.47841\n",
       "742    0.66191    9.6594  -0.28819\n",
       "74     4.40690   10.9072  -4.57750\n",
       "176    0.19081    9.1297  -3.72500\n",
       "338    0.96414    5.6160   2.21380\n",
       "\n",
       "[960 rows x 3 columns]"
      ]
     },
     "execution_count": 6,
     "metadata": {},
     "output_type": "execute_result"
    }
   ],
   "source": [
    "# Splitting data into training and test set\n",
    "\n",
    "X_train, X_test, y_train, y_test = train_test_split(X,y,test_size=0.3,\n",
    "                                                    random_state=13)\n",
    "X_train"
   ]
  },
  {
   "cell_type": "code",
   "execution_count": 9,
   "metadata": {
    "colab": {
     "base_uri": "https://localhost:8080/",
     "height": 424
    },
    "id": "inl0pWyNpHma",
    "outputId": "4f0a899d-0093-4407-b0a2-807ef0c8c4a0"
   },
   "outputs": [
    {
     "data": {
      "text/html": [
       "<div>\n",
       "<style scoped>\n",
       "    .dataframe tbody tr th:only-of-type {\n",
       "        vertical-align: middle;\n",
       "    }\n",
       "\n",
       "    .dataframe tbody tr th {\n",
       "        vertical-align: top;\n",
       "    }\n",
       "\n",
       "    .dataframe thead th {\n",
       "        text-align: right;\n",
       "    }\n",
       "</style>\n",
       "<table border=\"1\" class=\"dataframe\">\n",
       "  <thead>\n",
       "    <tr style=\"text-align: right;\">\n",
       "      <th></th>\n",
       "      <th>variance</th>\n",
       "      <th>skewness</th>\n",
       "      <th>curtosis</th>\n",
       "    </tr>\n",
       "  </thead>\n",
       "  <tbody>\n",
       "    <tr>\n",
       "      <th>523</th>\n",
       "      <td>0.575079</td>\n",
       "      <td>-0.705603</td>\n",
       "      <td>0.309801</td>\n",
       "    </tr>\n",
       "    <tr>\n",
       "      <th>486</th>\n",
       "      <td>1.190045</td>\n",
       "      <td>0.760590</td>\n",
       "      <td>-0.881646</td>\n",
       "    </tr>\n",
       "    <tr>\n",
       "      <th>784</th>\n",
       "      <td>-1.370354</td>\n",
       "      <td>0.492519</td>\n",
       "      <td>-0.484500</td>\n",
       "    </tr>\n",
       "    <tr>\n",
       "      <th>408</th>\n",
       "      <td>1.309365</td>\n",
       "      <td>-0.154700</td>\n",
       "      <td>-0.128480</td>\n",
       "    </tr>\n",
       "    <tr>\n",
       "      <th>1318</th>\n",
       "      <td>-0.346584</td>\n",
       "      <td>0.180233</td>\n",
       "      <td>-0.739228</td>\n",
       "    </tr>\n",
       "    <tr>\n",
       "      <th>...</th>\n",
       "      <td>...</td>\n",
       "      <td>...</td>\n",
       "      <td>...</td>\n",
       "    </tr>\n",
       "    <tr>\n",
       "      <th>866</th>\n",
       "      <td>-1.627606</td>\n",
       "      <td>0.249942</td>\n",
       "      <td>-0.415137</td>\n",
       "    </tr>\n",
       "    <tr>\n",
       "      <th>742</th>\n",
       "      <td>0.058894</td>\n",
       "      <td>1.326238</td>\n",
       "      <td>-0.369714</td>\n",
       "    </tr>\n",
       "    <tr>\n",
       "      <th>74</th>\n",
       "      <td>1.373941</td>\n",
       "      <td>1.542939</td>\n",
       "      <td>-1.393981</td>\n",
       "    </tr>\n",
       "    <tr>\n",
       "      <th>176</th>\n",
       "      <td>-0.106532</td>\n",
       "      <td>1.234247</td>\n",
       "      <td>-1.190408</td>\n",
       "    </tr>\n",
       "    <tr>\n",
       "      <th>338</th>\n",
       "      <td>0.165021</td>\n",
       "      <td>0.624037</td>\n",
       "      <td>0.227750</td>\n",
       "    </tr>\n",
       "  </tbody>\n",
       "</table>\n",
       "<p>960 rows × 3 columns</p>\n",
       "</div>"
      ],
      "text/plain": [
       "      variance  skewness  curtosis\n",
       "523   0.575079 -0.705603  0.309801\n",
       "486   1.190045  0.760590 -0.881646\n",
       "784  -1.370354  0.492519 -0.484500\n",
       "408   1.309365 -0.154700 -0.128480\n",
       "1318 -0.346584  0.180233 -0.739228\n",
       "...        ...       ...       ...\n",
       "866  -1.627606  0.249942 -0.415137\n",
       "742   0.058894  1.326238 -0.369714\n",
       "74    1.373941  1.542939 -1.393981\n",
       "176  -0.106532  1.234247 -1.190408\n",
       "338   0.165021  0.624037  0.227750\n",
       "\n",
       "[960 rows x 3 columns]"
      ]
     },
     "execution_count": 9,
     "metadata": {},
     "output_type": "execute_result"
    }
   ],
   "source": [
    "# Standardization\n",
    "\n",
    "sc = StandardScaler()\n",
    "X_train[['variance','skewness','curtosis']] =  sc.fit_transform(X_train)\n",
    "X_test[['variance','skewness','curtosis']]  = sc.transform(X_test)\n",
    "X_train"
   ]
  },
  {
   "cell_type": "code",
   "execution_count": 10,
   "metadata": {
    "colab": {
     "base_uri": "https://localhost:8080/",
     "height": 424
    },
    "id": "OqDlCqv4nYbY",
    "outputId": "2f0b8164-e7c7-40a9-ff61-3857dadd58de"
   },
   "outputs": [
    {
     "data": {
      "text/html": [
       "<div>\n",
       "<style scoped>\n",
       "    .dataframe tbody tr th:only-of-type {\n",
       "        vertical-align: middle;\n",
       "    }\n",
       "\n",
       "    .dataframe tbody tr th {\n",
       "        vertical-align: top;\n",
       "    }\n",
       "\n",
       "    .dataframe thead th {\n",
       "        text-align: right;\n",
       "    }\n",
       "</style>\n",
       "<table border=\"1\" class=\"dataframe\">\n",
       "  <thead>\n",
       "    <tr style=\"text-align: right;\">\n",
       "      <th></th>\n",
       "      <th>variance</th>\n",
       "      <th>skewness</th>\n",
       "      <th>curtosis</th>\n",
       "    </tr>\n",
       "  </thead>\n",
       "  <tbody>\n",
       "    <tr>\n",
       "      <th>308</th>\n",
       "      <td>1.447367</td>\n",
       "      <td>1.416440</td>\n",
       "      <td>-1.308254</td>\n",
       "    </tr>\n",
       "    <tr>\n",
       "      <th>1330</th>\n",
       "      <td>-0.559974</td>\n",
       "      <td>-1.610491</td>\n",
       "      <td>1.135197</td>\n",
       "    </tr>\n",
       "    <tr>\n",
       "      <th>472</th>\n",
       "      <td>1.174314</td>\n",
       "      <td>0.722870</td>\n",
       "      <td>-0.788969</td>\n",
       "    </tr>\n",
       "    <tr>\n",
       "      <th>304</th>\n",
       "      <td>0.659705</td>\n",
       "      <td>1.467464</td>\n",
       "      <td>-1.019359</td>\n",
       "    </tr>\n",
       "    <tr>\n",
       "      <th>33</th>\n",
       "      <td>-0.512432</td>\n",
       "      <td>1.283117</td>\n",
       "      <td>0.112341</td>\n",
       "    </tr>\n",
       "    <tr>\n",
       "      <th>...</th>\n",
       "      <td>...</td>\n",
       "      <td>...</td>\n",
       "      <td>...</td>\n",
       "    </tr>\n",
       "    <tr>\n",
       "      <th>1174</th>\n",
       "      <td>-1.299001</td>\n",
       "      <td>-0.376070</td>\n",
       "      <td>-0.067914</td>\n",
       "    </tr>\n",
       "    <tr>\n",
       "      <th>642</th>\n",
       "      <td>1.628594</td>\n",
       "      <td>-0.356664</td>\n",
       "      <td>-0.223010</td>\n",
       "    </tr>\n",
       "    <tr>\n",
       "      <th>883</th>\n",
       "      <td>-1.353534</td>\n",
       "      <td>-0.408054</td>\n",
       "      <td>0.208312</td>\n",
       "    </tr>\n",
       "    <tr>\n",
       "      <th>1319</th>\n",
       "      <td>0.059505</td>\n",
       "      <td>-0.359180</td>\n",
       "      <td>-0.345774</td>\n",
       "    </tr>\n",
       "    <tr>\n",
       "      <th>298</th>\n",
       "      <td>0.227828</td>\n",
       "      <td>-0.206450</td>\n",
       "      <td>1.001782</td>\n",
       "    </tr>\n",
       "  </tbody>\n",
       "</table>\n",
       "<p>412 rows × 3 columns</p>\n",
       "</div>"
      ],
      "text/plain": [
       "      variance  skewness  curtosis\n",
       "308   1.447367  1.416440 -1.308254\n",
       "1330 -0.559974 -1.610491  1.135197\n",
       "472   1.174314  0.722870 -0.788969\n",
       "304   0.659705  1.467464 -1.019359\n",
       "33   -0.512432  1.283117  0.112341\n",
       "...        ...       ...       ...\n",
       "1174 -1.299001 -0.376070 -0.067914\n",
       "642   1.628594 -0.356664 -0.223010\n",
       "883  -1.353534 -0.408054  0.208312\n",
       "1319  0.059505 -0.359180 -0.345774\n",
       "298   0.227828 -0.206450  1.001782\n",
       "\n",
       "[412 rows x 3 columns]"
      ]
     },
     "execution_count": 10,
     "metadata": {},
     "output_type": "execute_result"
    }
   ],
   "source": [
    "X_test"
   ]
  },
  {
   "cell_type": "code",
   "execution_count": 11,
   "metadata": {
    "colab": {
     "base_uri": "https://localhost:8080/",
     "height": 248
    },
    "id": "nTx0ANz5l0vd",
    "outputId": "75915fce-ed6e-4bd2-b002-e383554e7235"
   },
   "outputs": [
    {
     "data": {
      "image/png": "[encoded data removed]",
      "text/plain": [
       "<Figure size 432x288 with 1 Axes>"
      ]
     },
     "metadata": {
      "needs_background": "light"
     },
     "output_type": "display_data"
    }
   ],
   "source": [
    "# 3D plot of features\n",
    "\n",
    "fig = plt.figure()\n",
    "ax = plt.axes(projection ='3d')\n",
    "\n",
    "ax.scatter(X_train['variance'],X_train['skewness'],X_train['curtosis'])\n",
    "ax.set_title('3D plot of Training set')\n",
    "plt.show()"
   ]
  },
  {
   "cell_type": "markdown",
   "metadata": {
    "id": "fY_2RbCVlref"
   },
   "source": [
    "# Principal Component Analysis"
   ]
  },
  {
   "cell_type": "code",
   "execution_count": 12,
   "metadata": {
    "colab": {
     "base_uri": "https://localhost:8080/",
     "height": 424
    },
    "id": "ipNFAs5Dlyvr",
    "outputId": "92180e6d-9fd5-46fd-c988-cf8a8ada6ea5"
   },
   "outputs": [
    {
     "data": {
      "text/html": [
       "<div>\n",
       "<style scoped>\n",
       "    .dataframe tbody tr th:only-of-type {\n",
       "        vertical-align: middle;\n",
       "    }\n",
       "\n",
       "    .dataframe tbody tr th {\n",
       "        vertical-align: top;\n",
       "    }\n",
       "\n",
       "    .dataframe thead tr th {\n",
       "        text-align: left;\n",
       "    }\n",
       "</style>\n",
       "<table border=\"1\" class=\"dataframe\">\n",
       "  <thead>\n",
       "    <tr>\n",
       "      <th></th>\n",
       "      <th>prin_comp1</th>\n",
       "      <th>prin_comp2</th>\n",
       "    </tr>\n",
       "  </thead>\n",
       "  <tbody>\n",
       "    <tr>\n",
       "      <th>0</th>\n",
       "      <td>0.410836</td>\n",
       "      <td>-0.850324</td>\n",
       "    </tr>\n",
       "    <tr>\n",
       "      <th>1</th>\n",
       "      <td>-1.550447</td>\n",
       "      <td>-0.606319</td>\n",
       "    </tr>\n",
       "    <tr>\n",
       "      <th>2</th>\n",
       "      <td>-0.063089</td>\n",
       "      <td>1.521691</td>\n",
       "    </tr>\n",
       "    <tr>\n",
       "      <th>3</th>\n",
       "      <td>-0.527711</td>\n",
       "      <td>-1.214560</td>\n",
       "    </tr>\n",
       "    <tr>\n",
       "      <th>4</th>\n",
       "      <td>-0.456614</td>\n",
       "      <td>0.530071</td>\n",
       "    </tr>\n",
       "    <tr>\n",
       "      <th>...</th>\n",
       "      <td>...</td>\n",
       "      <td>...</td>\n",
       "    </tr>\n",
       "    <tr>\n",
       "      <th>955</th>\n",
       "      <td>0.241589</td>\n",
       "      <td>1.647311</td>\n",
       "    </tr>\n",
       "    <tr>\n",
       "      <th>956</th>\n",
       "      <td>-1.103047</td>\n",
       "      <td>0.527134</td>\n",
       "    </tr>\n",
       "    <tr>\n",
       "      <th>957</th>\n",
       "      <td>-2.456243</td>\n",
       "      <td>-0.370786</td>\n",
       "    </tr>\n",
       "    <tr>\n",
       "      <th>958</th>\n",
       "      <td>-1.516537</td>\n",
       "      <td>0.806281</td>\n",
       "    </tr>\n",
       "    <tr>\n",
       "      <th>959</th>\n",
       "      <td>-0.311519</td>\n",
       "      <td>0.043388</td>\n",
       "    </tr>\n",
       "  </tbody>\n",
       "</table>\n",
       "<p>960 rows × 2 columns</p>\n",
       "</div>"
      ],
      "text/plain": [
       "    prin_comp1 prin_comp2\n",
       "0     0.410836  -0.850324\n",
       "1    -1.550447  -0.606319\n",
       "2    -0.063089   1.521691\n",
       "3    -0.527711  -1.214560\n",
       "4    -0.456614   0.530071\n",
       "..         ...        ...\n",
       "955   0.241589   1.647311\n",
       "956  -1.103047   0.527134\n",
       "957  -2.456243  -0.370786\n",
       "958  -1.516537   0.806281\n",
       "959  -0.311519   0.043388\n",
       "\n",
       "[960 rows x 2 columns]"
      ]
     },
     "execution_count": 12,
     "metadata": {},
     "output_type": "execute_result"
    }
   ],
   "source": [
    "# PCA\n",
    "\n",
    "pca = PCA(n_components=2)\n",
    "X_train_2dim = pd.DataFrame(pca.fit_transform(X_train),\n",
    "                            columns = [['prin_comp1',\n",
    "                                        'prin_comp2']])\n",
    "\n",
    "X_test_2dim = pd.DataFrame(pca.transform(X_test),\n",
    "                            columns = [['prin_comp1',\n",
    "                                        'prin_comp2']])\n",
    "\n",
    "X_train_1dim = X_train_2dim['prin_comp1']\n",
    "X_test_1dim = X_test_2dim['prin_comp1']\n",
    "\n",
    "X_train_2dim"
   ]
  },
  {
   "cell_type": "code",
   "execution_count": 13,
   "metadata": {
    "colab": {
     "base_uri": "https://localhost:8080/",
     "height": 424
    },
    "id": "Nfuy7VjJox9n",
    "outputId": "aa468c73-27dc-4f50-f24a-4294135c05f0"
   },
   "outputs": [
    {
     "data": {
      "text/html": [
       "<div>\n",
       "<style scoped>\n",
       "    .dataframe tbody tr th:only-of-type {\n",
       "        vertical-align: middle;\n",
       "    }\n",
       "\n",
       "    .dataframe tbody tr th {\n",
       "        vertical-align: top;\n",
       "    }\n",
       "\n",
       "    .dataframe thead tr th {\n",
       "        text-align: left;\n",
       "    }\n",
       "</style>\n",
       "<table border=\"1\" class=\"dataframe\">\n",
       "  <thead>\n",
       "    <tr>\n",
       "      <th></th>\n",
       "      <th>prin_comp1</th>\n",
       "    </tr>\n",
       "  </thead>\n",
       "  <tbody>\n",
       "    <tr>\n",
       "      <th>0</th>\n",
       "      <td>0.410836</td>\n",
       "    </tr>\n",
       "    <tr>\n",
       "      <th>1</th>\n",
       "      <td>-1.550447</td>\n",
       "    </tr>\n",
       "    <tr>\n",
       "      <th>2</th>\n",
       "      <td>-0.063089</td>\n",
       "    </tr>\n",
       "    <tr>\n",
       "      <th>3</th>\n",
       "      <td>-0.527711</td>\n",
       "    </tr>\n",
       "    <tr>\n",
       "      <th>4</th>\n",
       "      <td>-0.456614</td>\n",
       "    </tr>\n",
       "    <tr>\n",
       "      <th>...</th>\n",
       "      <td>...</td>\n",
       "    </tr>\n",
       "    <tr>\n",
       "      <th>955</th>\n",
       "      <td>0.241589</td>\n",
       "    </tr>\n",
       "    <tr>\n",
       "      <th>956</th>\n",
       "      <td>-1.103047</td>\n",
       "    </tr>\n",
       "    <tr>\n",
       "      <th>957</th>\n",
       "      <td>-2.456243</td>\n",
       "    </tr>\n",
       "    <tr>\n",
       "      <th>958</th>\n",
       "      <td>-1.516537</td>\n",
       "    </tr>\n",
       "    <tr>\n",
       "      <th>959</th>\n",
       "      <td>-0.311519</td>\n",
       "    </tr>\n",
       "  </tbody>\n",
       "</table>\n",
       "<p>960 rows × 1 columns</p>\n",
       "</div>"
      ],
      "text/plain": [
       "    prin_comp1\n",
       "0     0.410836\n",
       "1    -1.550447\n",
       "2    -0.063089\n",
       "3    -0.527711\n",
       "4    -0.456614\n",
       "..         ...\n",
       "955   0.241589\n",
       "956  -1.103047\n",
       "957  -2.456243\n",
       "958  -1.516537\n",
       "959  -0.311519\n",
       "\n",
       "[960 rows x 1 columns]"
      ]
     },
     "execution_count": 13,
     "metadata": {},
     "output_type": "execute_result"
    }
   ],
   "source": [
    "X_train_1dim"
   ]
  },
  {
   "cell_type": "code",
   "execution_count": 14,
   "metadata": {
    "colab": {
     "base_uri": "https://localhost:8080/",
     "height": 281
    },
    "id": "-74lPzwarQRM",
    "outputId": "54e7d875-5d59-4ac2-98bc-bbbe8d8867f3"
   },
   "outputs": [
    {
     "data": {
      "image/png": "[encoded data removed]",
      "text/plain": [
       "<Figure size 432x288 with 1 Axes>"
      ]
     },
     "metadata": {
      "needs_background": "light"
     },
     "output_type": "display_data"
    }
   ],
   "source": [
    "# 2D plot of features\n",
    "\n",
    "plt.scatter(X_train_2dim['prin_comp1'],X_train_2dim['prin_comp2'])\n",
    "plt.title('2D plot of Training set after PCA')\n",
    "plt.show()"
   ]
  },
  {
   "cell_type": "code",
   "execution_count": 15,
   "metadata": {
    "colab": {
     "base_uri": "https://localhost:8080/",
     "height": 248
    },
    "id": "tN6oFK-mrsJP",
    "outputId": "3ea122ea-efc4-4361-945b-a9bd0db7d816"
   },
   "outputs": [
    {
     "data": {
      "image/png": "[encoded data removed]",
      "text/plain": [
       "<Figure size 432x288 with 1 Axes>"
      ]
     },
     "metadata": {
      "needs_background": "light"
     },
     "output_type": "display_data"
    }
   ],
   "source": [
    "# Combined 3D and 2D plot of features\n",
    "\n",
    "fig = plt.figure()\n",
    "ax = plt.axes(projection ='3d')\n",
    "\n",
    "ax.scatter(X_train['variance'],X_train['skewness'],X_train['curtosis'],color='red')\n",
    "ax.scatter(X_train_2dim['prin_comp1'],X_train_2dim['prin_comp2'],color='blue')\n",
    "ax.set_title('Combined Plot')\n",
    "plt.legend(labels=['Original 3D','After PCA 2D'])\n",
    "plt.show()"
   ]
  },
  {
   "cell_type": "code",
   "execution_count": 32,
   "metadata": {
    "colab": {
     "base_uri": "https://localhost:8080/"
    },
    "id": "9B_jqM-luMXy",
    "outputId": "3a3b0df7-5109-46da-f80d-74dce230cf30"
   },
   "outputs": [
    {
     "name": "stdout",
     "output_type": "stream",
     "text": [
      "Info retained by PCA components (%) :  [66.02418112135348, 26.98538663843034]\n",
      "\n",
      "Eigen Values :  [1.98279084 0.81040577]\n",
      "\n",
      "Eigen Vectors : \n",
      "[[-0.41293121 -0.63003301  0.65768246]\n",
      " [-0.90224817  0.38148952 -0.20103233]]\n"
     ]
    }
   ],
   "source": [
    "# PCA Info\n",
    "\n",
    "print('Info retained by PCA components (%) : ',\n",
    "      [val*100 for val in pca.explained_variance_ratio_])\n",
    "print()\n",
    "print('Eigen Values : ',\n",
    "      pca.explained_variance_)\n",
    "print()\n",
    "print('Eigen Vectors : ')\n",
    "print(pca.components_)"
   ]
  },
  {
   "cell_type": "markdown",
   "metadata": {
    "id": "hFh7_hOqvAd1"
   },
   "source": [
    "# K Nearest Neighbors"
   ]
  },
  {
   "cell_type": "code",
   "execution_count": 26,
   "metadata": {
    "colab": {
     "base_uri": "https://localhost:8080/"
    },
    "id": "i3XIfuXhvJNl",
    "outputId": "c3af04ac-6830-41dc-beb8-ee578051c7b4"
   },
   "outputs": [
    {
     "name": "stdout",
     "output_type": "stream",
     "text": [
      "Model performance on original training set : \n",
      "\n",
      "              precision    recall  f1-score   support\n",
      "\n",
      "           0       1.00      1.00      1.00       535\n",
      "           1       1.00      1.00      1.00       425\n",
      "\n",
      "    accuracy                           1.00       960\n",
      "   macro avg       1.00      1.00      1.00       960\n",
      "weighted avg       1.00      1.00      1.00       960\n",
      "\n",
      "\n",
      "Model performance on original test set : \n",
      "\n",
      "              precision    recall  f1-score   support\n",
      "\n",
      "           0       1.00      1.00      1.00       227\n",
      "           1       0.99      1.00      1.00       185\n",
      "\n",
      "    accuracy                           1.00       412\n",
      "   macro avg       1.00      1.00      1.00       412\n",
      "weighted avg       1.00      1.00      1.00       412\n",
      "\n",
      "\n",
      "Confusion Matrix : \n"
     ]
    },
    {
     "data": {
      "image/png": "[encoded data removed]",
      "text/plain": [
       "<Figure size 432x288 with 2 Axes>"
      ]
     },
     "metadata": {
      "needs_background": "light"
     },
     "output_type": "display_data"
    }
   ],
   "source": [
    "# KNN On Original Dataset\n",
    "\n",
    "knn = KNeighborsClassifier()\n",
    "knn.fit(X_train,y_train)\n",
    "\n",
    "print('Model performance on original training set : ')\n",
    "print()\n",
    "print(classification_report(y_train,\n",
    "                            knn.predict(X_train)))\n",
    "\n",
    "print()\n",
    "print('Model performance on original test set : ')\n",
    "print()\n",
    "print(classification_report(y_test,\n",
    "                            knn.predict(X_test)))\n",
    "print()\n",
    "print('Confusion Matrix : ')\n",
    "cm_display = ConfusionMatrixDisplay.from_estimator(\n",
    "             knn, X_test, y_test,\n",
    "             display_labels=['0','1'])\n",
    "plt.show()"
   ]
  },
  {
   "cell_type": "code",
   "execution_count": 28,
   "metadata": {
    "id": "7ACnw7x1wjeb"
   },
   "outputs": [
    {
     "name": "stdout",
     "output_type": "stream",
     "text": [
      "Model performance after 2D PCA on training set : \n",
      "\n",
      "              precision    recall  f1-score   support\n",
      "\n",
      "           0       0.95      0.94      0.95       535\n",
      "           1       0.92      0.94      0.93       425\n",
      "\n",
      "    accuracy                           0.94       960\n",
      "   macro avg       0.94      0.94      0.94       960\n",
      "weighted avg       0.94      0.94      0.94       960\n",
      "\n",
      "\n",
      "Model performance after 2D PCA on test set : \n",
      "\n",
      "              precision    recall  f1-score   support\n",
      "\n",
      "           0       0.90      0.92      0.91       227\n",
      "           1       0.90      0.88      0.89       185\n",
      "\n",
      "    accuracy                           0.90       412\n",
      "   macro avg       0.90      0.90      0.90       412\n",
      "weighted avg       0.90      0.90      0.90       412\n",
      "\n",
      "\n",
      "Confusion Matrix : \n"
     ]
    },
    {
     "data": {
      "image/png": "[encoded data removed]",
      "text/plain": [
       "<Figure size 432x288 with 2 Axes>"
      ]
     },
     "metadata": {
      "needs_background": "light"
     },
     "output_type": "display_data"
    }
   ],
   "source": [
    "# KNN On 2D PCA\n",
    "\n",
    "knn = KNeighborsClassifier()\n",
    "knn.fit(X_train_2dim,y_train)\n",
    "\n",
    "print('Model performance after 2D PCA on training set : ')\n",
    "print()\n",
    "print(classification_report(y_train,\n",
    "                            knn.predict(X_train_2dim)))\n",
    "\n",
    "print()\n",
    "print('Model performance after 2D PCA on test set : ')\n",
    "print()\n",
    "print(classification_report(y_test,\n",
    "                            knn.predict(X_test_2dim)))\n",
    "print()\n",
    "print('Confusion Matrix : ')\n",
    "cm_display = ConfusionMatrixDisplay.from_estimator(\n",
    "             knn, X_test_2dim, y_test,\n",
    "             display_labels=['0','1'])\n",
    "plt.show()"
   ]
  },
  {
   "cell_type": "code",
   "execution_count": 29,
   "metadata": {},
   "outputs": [
    {
     "name": "stdout",
     "output_type": "stream",
     "text": [
      "Model performance after 1D PCA on training set : \n",
      "\n",
      "              precision    recall  f1-score   support\n",
      "\n",
      "           0       0.79      0.84      0.81       535\n",
      "           1       0.78      0.71      0.74       425\n",
      "\n",
      "    accuracy                           0.78       960\n",
      "   macro avg       0.78      0.78      0.78       960\n",
      "weighted avg       0.78      0.78      0.78       960\n",
      "\n",
      "\n",
      "Model performance after 1D PCA on test set : \n",
      "\n",
      "              precision    recall  f1-score   support\n",
      "\n",
      "           0       0.76      0.80      0.78       227\n",
      "           1       0.74      0.69      0.72       185\n",
      "\n",
      "    accuracy                           0.75       412\n",
      "   macro avg       0.75      0.75      0.75       412\n",
      "weighted avg       0.75      0.75      0.75       412\n",
      "\n",
      "\n",
      "Confusion Matrix : \n"
     ]
    },
    {
     "data": {
      "image/png": "[encoded data removed]",
      "text/plain": [
       "<Figure size 432x288 with 2 Axes>"
      ]
     },
     "metadata": {
      "needs_background": "light"
     },
     "output_type": "display_data"
    }
   ],
   "source": [
    "# KNN On 1D PCA\n",
    "\n",
    "knn = KNeighborsClassifier()\n",
    "knn.fit(X_train_1dim,y_train)\n",
    "\n",
    "print('Model performance after 1D PCA on training set : ')\n",
    "print()\n",
    "print(classification_report(y_train,\n",
    "                            knn.predict(X_train_1dim)))\n",
    "\n",
    "print()\n",
    "print('Model performance after 1D PCA on test set : ')\n",
    "print()\n",
    "print(classification_report(y_test,\n",
    "                            knn.predict(X_test_1dim)))\n",
    "print()\n",
    "print('Confusion Matrix : ')\n",
    "cm_display = ConfusionMatrixDisplay.from_estimator(\n",
    "             knn, X_test_1dim, y_test,\n",
    "             display_labels=['0','1'])\n",
    "plt.show()"
   ]
  },
  {
   "cell_type": "markdown",
   "metadata": {},
   "source": [
    "# Comparison of Results"
   ]
  },
  {
   "cell_type": "code",
   "execution_count": 31,
   "metadata": {},
   "outputs": [
    {
     "name": "stdout",
     "output_type": "stream",
     "text": [
      "Comparing Performance before and after PCA : \n",
      "\n"
     ]
    },
    {
     "data": {
      "text/html": [
       "<div>\n",
       "<style scoped>\n",
       "    .dataframe tbody tr th:only-of-type {\n",
       "        vertical-align: middle;\n",
       "    }\n",
       "\n",
       "    .dataframe tbody tr th {\n",
       "        vertical-align: top;\n",
       "    }\n",
       "\n",
       "    .dataframe thead th {\n",
       "        text-align: right;\n",
       "    }\n",
       "</style>\n",
       "<table border=\"1\" class=\"dataframe\">\n",
       "  <thead>\n",
       "    <tr style=\"text-align: right;\">\n",
       "      <th></th>\n",
       "      <th>Original</th>\n",
       "      <th>2D PCA</th>\n",
       "      <th>1D PCA</th>\n",
       "    </tr>\n",
       "  </thead>\n",
       "  <tbody>\n",
       "    <tr>\n",
       "      <th>Training Accuracy (%)</th>\n",
       "      <td>100</td>\n",
       "      <td>94</td>\n",
       "      <td>78</td>\n",
       "    </tr>\n",
       "    <tr>\n",
       "      <th>Testing Accuracy (%)</th>\n",
       "      <td>100</td>\n",
       "      <td>90</td>\n",
       "      <td>75</td>\n",
       "    </tr>\n",
       "  </tbody>\n",
       "</table>\n",
       "</div>"
      ],
      "text/plain": [
       "                       Original  2D PCA  1D PCA\n",
       "Training Accuracy (%)       100      94      78\n",
       "Testing Accuracy (%)        100      90      75"
      ]
     },
     "execution_count": 31,
     "metadata": {},
     "output_type": "execute_result"
    }
   ],
   "source": [
    "result = pd.DataFrame({'Original':[100,100],\n",
    "                      '2D PCA':[94,90],\n",
    "                      '1D PCA':[78,75]},\n",
    "                      index=['Training Accuracy (%)','Testing Accuracy (%)'])\n",
    "print('Comparing Performance before and after PCA : \\n')\n",
    "result"
   ]
  },
  {
   "cell_type": "markdown",
   "metadata": {},
   "source": [
    "#### Conclusion : We can reduce dataset to 2 dimensions and still get a 94% accuracy on training set and 90% accuracy on test set hence reducing dataset to 2 dimensions using PCA would be a good choice"
   ]
  }
 ],
 "metadata": {
  "colab": {
   "collapsed_sections": [],
   "provenance": []
  },
  "kernelspec": {
   "display_name": "Python 3 (ipykernel)",
   "language": "python",
   "name": "python3"
  },
  "language_info": {
   "codemirror_mode": {
    "name": "ipython",
    "version": 3
   },
   "file_extension": ".py",
   "mimetype": "text/x-python",
   "name": "python",
   "nbconvert_exporter": "python",
   "pygments_lexer": "ipython3",
   "version": "3.7.7"
  }
 },
 "nbformat": 4,
 "nbformat_minor": 1
}
